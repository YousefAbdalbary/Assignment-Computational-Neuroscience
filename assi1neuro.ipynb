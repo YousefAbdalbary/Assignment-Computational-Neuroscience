{
 "cells": [
  {
   "cell_type": "code",
   "execution_count": null,
   "metadata": {},
   "outputs": [
    {
     "name": "stdout",
     "output_type": "stream",
     "text": [
      "prob of classs o1 : 0.47493897016034486\n",
      "prob of classs o2 : 0.5600339932565246\n",
      "It is class o2\n"
     ]
    }
   ],
   "source": [
    "import random\n",
    "def tanh(x):\n",
    "    exp_plus_x = 2.718281828459045 ** x\n",
    "    exp_neg_x = 2.718281828459045 ** -x\n",
    "    return (exp_plus_x - exp_neg_x) / (exp_plus_x + exp_neg_x)\n",
    "def random_weight():\n",
    "    return random.uniform(-.5,.5)\n",
    "def weighted_sum (inputs,weigths, bias):\n",
    "    return sum(i * w for i,w in zip(inputs,weigths))+bias\n",
    "\n",
    "\n",
    "w1,w2,w3,w4 = random_weight(),random_weight(),random_weight(),random_weight()\n",
    "w5,w6,w7,w8 = random_weight(),random_weight(),random_weight(),random_weight()\n",
    "\n",
    "i1,i2 = .05,.1\n",
    "b1,b2 =.5 , .7\n",
    "\n",
    "#hidden layer \n",
    "net_h1 = weighted_sum([i1,i2],[w1,w2],b1 ) \n",
    "out_h1 = tanh(net_h1)\n",
    "net_h2 = weighted_sum([i1,i2],[w3,w4],b1 ) \n",
    "out_h2 = tanh(net_h2)\n",
    "\n",
    "#output layer \n",
    "net_o1 = weighted_sum([out_h1,out_h2],[w5,w6],b2 ) \n",
    "out_o1 = tanh(net_o1)\n",
    "net_o2 = weighted_sum([out_h1,out_h2],[w7,w8],b2 ) \n",
    "out_o2 = tanh(net_o2)\n",
    "\n",
    "print(f\"prob of classs o1 : {out_o1}\")\n",
    "print(f\"prob of classs o2 : {out_o2}\")\n",
    "print(\"It is class o1\") if (out_o1 > out_o2) else print(\"It is class o2\")\n"
   ]
  },
  {
   "cell_type": "code",
   "execution_count": null,
   "metadata": {},
   "outputs": [
    {
     "name": "stdout",
     "output_type": "stream",
     "text": [
      "0.9950547536867306\n"
     ]
    }
   ],
   "source": []
  },
  {
   "cell_type": "code",
   "execution_count": null,
   "metadata": {},
   "outputs": [],
   "source": []
  }
 ],
 "metadata": {
  "kernelspec": {
   "display_name": "Python 3",
   "language": "python",
   "name": "python3"
  },
  "language_info": {
   "codemirror_mode": {
    "name": "ipython",
    "version": 3
   },
   "file_extension": ".py",
   "mimetype": "text/x-python",
   "name": "python",
   "nbconvert_exporter": "python",
   "pygments_lexer": "ipython3",
   "version": "3.9.13"
  }
 },
 "nbformat": 4,
 "nbformat_minor": 2
}
